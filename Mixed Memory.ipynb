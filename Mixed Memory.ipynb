{
  "nbformat": 4,
  "nbformat_minor": 0,
  "metadata": {
    "colab": {
      "provenance": [],
      "gpuType": "T4",
      "authorship_tag": "ABX9TyPOlBfGuT8oS40qYnSDRxhN",
      "include_colab_link": true
    },
    "kernelspec": {
      "name": "python3",
      "display_name": "Python 3"
    },
    "language_info": {
      "name": "python"
    },
    "accelerator": "GPU"
  },
  "cells": [
    {
      "cell_type": "markdown",
      "metadata": {
        "id": "view-in-github",
        "colab_type": "text"
      },
      "source": [
        "<a href=\"https://colab.research.google.com/github/siddharthk27/Neural-Circuit-Policies/blob/main/Mixed%20Memory.ipynb\" target=\"_parent\"><img src=\"https://colab.research.google.com/assets/colab-badge.svg\" alt=\"Open In Colab\"/></a>"
      ]
    },
    {
      "cell_type": "code",
      "execution_count": null,
      "metadata": {
        "id": "BLHoe-6PHZ8L"
      },
      "outputs": [],
      "source": [
        "!pip3 install ncps torch \"ale-py==0.7.4\" \"ray[rllib]==2.1.0\" \"gym[atari,accept-rom-license]==0.23.1\"\n"
      ]
    },
    {
      "cell_type": "code",
      "source": [
        "import torch\n",
        "import numpy as np\n",
        "import random\n",
        "\n",
        "# Set seeds for reproducibility\n",
        "seed = 42\n",
        "torch.manual_seed(seed)\n",
        "np.random.seed(seed)\n",
        "random.seed(seed)"
      ],
      "metadata": {
        "id": "zjLOvACycYCS"
      },
      "execution_count": 6,
      "outputs": []
    },
    {
      "cell_type": "code",
      "source": [
        "import torch.nn as nn\n",
        "import torch.nn.functional as F\n",
        "\n",
        "class ConvBlock(nn.Module):\n",
        "    def __init__(self):\n",
        "        super().__init__()\n",
        "        self.conv1 = nn.Conv2d(4, 64, 5, padding=2, stride=2)\n",
        "        self.conv2 = nn.Conv2d(64, 128, 5, padding=2, stride=2)\n",
        "        self.bn2 = nn.BatchNorm2d(128)\n",
        "        self.conv3 = nn.Conv2d(128, 128, 5, padding=2, stride=2)\n",
        "        self.conv4 = nn.Conv2d(128, 256, 5, padding=2, stride=2)\n",
        "        self.bn4 = nn.BatchNorm2d(256)\n",
        "\n",
        "    def forward(self, x):\n",
        "        x = F.relu(self.conv1(x))\n",
        "        x = F.relu(self.bn2(self.conv2(x)))\n",
        "        x = F.relu(self.conv3(x))\n",
        "        x = F.relu(self.bn4(self.conv4(x)))\n",
        "        x = x.mean((-1, -2))  # Global average pooling\n",
        "        return x"
      ],
      "metadata": {
        "id": "1RhkUZqwH_Lw"
      },
      "execution_count": 7,
      "outputs": []
    },
    {
      "cell_type": "code",
      "source": [
        "from ncps.torch import CfC\n",
        "\n",
        "class ConvCfC(nn.Module):\n",
        "    def __init__(self, n_actions):\n",
        "        super().__init__()\n",
        "        self.conv_block = ConvBlock()\n",
        "        self.rnn = CfC(256, 64, batch_first=True, mixed_memory = True, proj_size=n_actions)\n",
        "\n",
        "    def forward(self, x, hx=None):\n",
        "        batch_size = x.size(0)\n",
        "        seq_len = x.size(1)\n",
        "        # Merge time and batch dimension into a single one (because the Conv layers require this)\n",
        "        x = x.view(batch_size * seq_len, *x.shape[2:])\n",
        "        x = self.conv_block(x)  # apply conv block to merged data\n",
        "        # Separate time and batch dimension again\n",
        "        x = x.view(batch_size, seq_len, *x.shape[1:])\n",
        "        x, hx = self.rnn(x, hx)  # hx is the hidden state of the RNN\n",
        "        return x, hx"
      ],
      "metadata": {
        "id": "lN1-W4TkITdJ",
        "colab": {
          "base_uri": "https://localhost:8080/"
        },
        "outputId": "59f08f41-9d55-4c90-87c0-cb4c11cdad5d"
      },
      "execution_count": 21,
      "outputs": [
        {
          "output_type": "stream",
          "name": "stderr",
          "text": [
            "/usr/local/lib/python3.10/dist-packages/ipykernel/ipkernel.py:283: DeprecationWarning: `should_run_async` will not call `transform_cell` automatically in the future. Please pass the result to `transformed_cell` argument and any exception that happen during thetransform in `preprocessing_exc_tuple` in IPython 7.17 and above.\n",
            "  and should_run_async(code)\n"
          ]
        }
      ]
    },
    {
      "cell_type": "code",
      "source": [
        "from tqdm import tqdm"
      ],
      "metadata": {
        "id": "zWDAIR3uJlfP"
      },
      "execution_count": 9,
      "outputs": []
    },
    {
      "cell_type": "code",
      "source": [
        "import gym\n",
        "import ale_py\n",
        "from ray.rllib.env.wrappers.atari_wrappers import wrap_deepmind\n",
        "\n",
        "env = gym.make(\"ALE/Breakout-v5\")\n",
        "# We need to wrap the environment with the Deepmind helper functions\n",
        "env = wrap_deepmind(env)"
      ],
      "metadata": {
        "colab": {
          "base_uri": "https://localhost:8080/"
        },
        "id": "TCFtRjatIXdO",
        "outputId": "d8692c73-73ee-41b3-b226-09c99010f23a"
      },
      "execution_count": 10,
      "outputs": [
        {
          "output_type": "stream",
          "name": "stderr",
          "text": [
            "/usr/local/lib/python3.10/dist-packages/flax/configurations.py:42: DeprecationWarning: jax.config.define_bool_state is deprecated. Please use other libraries for configuration instead.\n",
            "  return jax_config.define_bool_state('flax_' + name, default, help)\n",
            "/usr/local/lib/python3.10/dist-packages/flax/linen/activation.py:36: DeprecationWarning: jax.nn.normalize is deprecated. Use jax.nn.standardize instead.\n",
            "  from jax.nn import normalize\n",
            "/usr/local/lib/python3.10/dist-packages/tensorflow_probability/python/__init__.py:57: DeprecationWarning: distutils Version classes are deprecated. Use packaging.version instead.\n",
            "  if (distutils.version.LooseVersion(tf.__version__) <\n",
            "/usr/local/lib/python3.10/dist-packages/gym/utils/seeding.py:138: DeprecationWarning: \u001b[33mWARN: Function `hash_seed(seed, max_bytes)` is marked as deprecated and will be removed in the future. \u001b[0m\n",
            "  deprecation(\n",
            "/usr/local/lib/python3.10/dist-packages/gym/utils/seeding.py:175: DeprecationWarning: \u001b[33mWARN: Function `_bigint_from_bytes(bytes)` is marked as deprecated and will be removed in the future. \u001b[0m\n",
            "  deprecation(\n",
            "2024-01-15 16:18:15,521\tWARNING deprecation.py:47 -- DeprecationWarning: `FrameStack` has been deprecated. This will raise an error in the future!\n"
          ]
        }
      ]
    },
    {
      "cell_type": "code",
      "source": [
        "import torch\n",
        "from torch.utils.data import Dataset\n",
        "import torch.optim as optim\n",
        "from ncps.datasets.torch import AtariCloningDataset\n",
        "\n",
        "train_ds = AtariCloningDataset(\"breakout\", split=\"train\")\n",
        "val_ds = AtariCloningDataset(\"breakout\", split=\"val\")\n",
        "trainloader = torch.utils.data.DataLoader(\n",
        "    train_ds, batch_size=32, num_workers=4, shuffle=True\n",
        ")\n",
        "valloader = torch.utils.data.DataLoader(val_ds, batch_size=32, num_workers=4)"
      ],
      "metadata": {
        "id": "pViiztO5IaCz",
        "colab": {
          "base_uri": "https://localhost:8080/"
        },
        "outputId": "718276ee-0327-47bd-bc5d-ff8c8593c60c"
      },
      "execution_count": 24,
      "outputs": [
        {
          "output_type": "stream",
          "name": "stderr",
          "text": [
            "/usr/local/lib/python3.10/dist-packages/torch/utils/data/dataloader.py:557: UserWarning: This DataLoader will create 4 worker processes in total. Our suggested max number of worker in current system is 2, which is smaller than what this DataLoader is going to create. Please be aware that excessive worker creation might get DataLoader running slow or even freeze, lower the worker number to avoid potential slowness/freeze if necessary.\n",
            "  warnings.warn(_create_warning_msg(\n"
          ]
        }
      ]
    },
    {
      "cell_type": "code",
      "source": [
        "def run_closed_loop(model, env, num_episodes=None):\n",
        "    obs = env.reset()\n",
        "    device = next(model.parameters()).device\n",
        "    hx = None  # Hidden state of the RNN\n",
        "    returns = []\n",
        "    total_reward = 0\n",
        "    with torch.no_grad():\n",
        "        while True:\n",
        "            # PyTorch require channel first images -> transpose data\n",
        "            obs = np.transpose(obs, [2, 0, 1]).astype(np.float32) / 255.0\n",
        "            # add batch and time dimension (with a single element in each)\n",
        "            obs = torch.from_numpy(obs).unsqueeze(0).unsqueeze(0).to(device)\n",
        "            pred, hx = model(obs, hx)\n",
        "            # remove time and batch dimension -> then argmax\n",
        "            action = pred.squeeze(0).squeeze(0).argmax().item()\n",
        "            obs, r, done, _ = env.step(action)\n",
        "            total_reward += r\n",
        "            if done:\n",
        "                obs = env.reset()\n",
        "                hx = None  # Reset hidden state of the RNN\n",
        "                returns.append(total_reward)\n",
        "                total_reward = 0\n",
        "                if num_episodes is not None:\n",
        "                    # Count down the number of episodes\n",
        "                    num_episodes = num_episodes - 1\n",
        "                    if num_episodes == 0:\n",
        "                        return returns"
      ],
      "metadata": {
        "id": "0agBA4m5IgdD"
      },
      "execution_count": 25,
      "outputs": []
    },
    {
      "cell_type": "code",
      "source": [
        "def train_one_epoch(model, criterion, optimizer, trainloader):\n",
        "    running_loss = 0.0\n",
        "    pbar = tqdm(total=len(trainloader))\n",
        "    model.train()\n",
        "    device = next(model.parameters()).device  # get device the model is located on\n",
        "    for i, (inputs, labels) in enumerate(trainloader):\n",
        "        inputs = inputs.to(device)  # move data to same device as the model\n",
        "        labels = labels.to(device)\n",
        "\n",
        "        # zero the parameter gradients\n",
        "        optimizer.zero_grad()\n",
        "        # forward + backward + optimize\n",
        "        outputs, hx = model(inputs)\n",
        "        labels = labels.view(-1, *labels.shape[2:])  # flatten\n",
        "        outputs = outputs.reshape(-1, *outputs.shape[2:])  # flatten\n",
        "        loss = criterion(outputs, labels)\n",
        "        loss.backward()\n",
        "        optimizer.step()\n",
        "\n",
        "        # print statistics\n",
        "        running_loss += loss.item()\n",
        "        pbar.set_description(f\"loss={running_loss / (i + 1):0.4g}\")\n",
        "        pbar.update(1)\n",
        "    pbar.close()\n",
        "\n",
        "def eval(model, valloader):\n",
        "    losses, accs = [], []\n",
        "    model.eval()\n",
        "    device = next(model.parameters()).device  # get device the model is located on\n",
        "    with torch.no_grad():\n",
        "        for inputs, labels in valloader:\n",
        "            inputs = inputs.to(device)  # move data to same device as the model\n",
        "            labels = labels.to(device)\n",
        "\n",
        "            outputs, _ = model(inputs)\n",
        "            outputs = outputs.reshape(-1, *outputs.shape[2:])  # flatten\n",
        "            labels = labels.view(-1, *labels.shape[2:])  # flatten\n",
        "            loss = criterion(outputs, labels)\n",
        "            acc = (outputs.argmax(-1) == labels).float().mean()\n",
        "            losses.append(loss.item())\n",
        "            accs.append(acc.item())\n",
        "    return np.mean(losses), np.mean(accs)"
      ],
      "metadata": {
        "id": "VfcM2ggvIndk"
      },
      "execution_count": 26,
      "outputs": []
    },
    {
      "cell_type": "code",
      "source": [
        "import matplotlib.pyplot as plt\n",
        "from sklearn.metrics import f1_score ,precision_score, recall_score\n"
      ],
      "metadata": {
        "id": "ugZXzr5wYg_T"
      },
      "execution_count": 27,
      "outputs": []
    },
    {
      "cell_type": "code",
      "source": [
        "device = torch.device(\"cuda\" if torch.cuda.is_available() else \"cpu\")\n",
        "model = ConvCfC(n_actions=env.action_space.n).to(device)\n",
        "criterion = nn.CrossEntropyLoss()\n",
        "optimizer = optim.Adam(model.parameters(), lr=0.0001)\n",
        "\n",
        "# Initialize lists to store training loss per epoch\n",
        "val_losses = []\n",
        "val_accuracies = []\n",
        "f1_scores = []\n",
        "precision_scores = []\n",
        "recall_scores = []\n",
        "\n",
        "for epoch in range(3):  # loop over the dataset multiple times\n",
        "\n",
        "\n",
        "    train_one_epoch(model, criterion, optimizer, trainloader)\n",
        "\n",
        "    # Evaluate model on the validation set\n",
        "    val_loss, val_acc = eval(model, valloader)\n",
        "\n",
        "    # Calculate F1 score\n",
        "    true_labels, predicted_labels = [], []\n",
        "    model.eval()\n",
        "    with torch.no_grad():\n",
        "        for inputs, labels in valloader:\n",
        "            inputs = inputs.to(device)\n",
        "            labels = labels.to(device)\n",
        "            outputs, _ = model(inputs)\n",
        "            predicted_labels.extend(outputs.argmax(-1).view(-1).cpu().numpy())\n",
        "            true_labels.extend(labels.view(-1).cpu().numpy())\n",
        "\n",
        "    f1 = f1_score(true_labels, predicted_labels, average='weighted')\n",
        "    precision = precision_score(true_labels, predicted_labels, average='weighted')\n",
        "    recall = recall_score(true_labels, predicted_labels, average='weighted')\n",
        "\n",
        "    f1_scores.append(f1)\n",
        "    precision_scores.append(precision)\n",
        "    recall_scores.append(recall)\n",
        "\n",
        "    # Store values for plotting\n",
        "    val_losses.append(val_loss)\n",
        "    val_accuracies.append(val_acc)\n",
        "\n",
        "    print(f\"Epoch {epoch+1}, val_loss={val_loss:0.4g}, val_acc={100*val_acc:0.2f}%, F1 Score={f1:0.4g}, Recall={recall:0.4g}, Precision={precision:0.4g}\")\n",
        "\n",
        "    # Apply model in closed-loop environment\n",
        "    returns = run_closed_loop(model, env, num_episodes=10)\n",
        "    print(f\"Mean return {np.mean(returns)} (n={len(returns)})\")\n",
        "\n"
      ],
      "metadata": {
        "colab": {
          "base_uri": "https://localhost:8080/"
        },
        "id": "8XsVVhF9JDiy",
        "outputId": "3f4f932a-fa6f-4faf-d927-a4a54da6cae4"
      },
      "execution_count": 28,
      "outputs": [
        {
          "output_type": "stream",
          "name": "stderr",
          "text": [
            "loss=0.3864: 100%|██████████| 938/938 [08:42<00:00,  1.80it/s]\n",
            "/usr/local/lib/python3.10/dist-packages/sklearn/metrics/_classification.py:1344: UndefinedMetricWarning: Precision is ill-defined and being set to 0.0 in labels with no predicted samples. Use `zero_division` parameter to control this behavior.\n",
            "  _warn_prf(average, modifier, msg_start, len(result))\n"
          ]
        },
        {
          "output_type": "stream",
          "name": "stdout",
          "text": [
            "Epoch 1, val_loss=0.5428, val_acc=84.48%, F1 Score=0.8013, Recall=0.8446, Precision=0.8424\n",
            "Mean return 1.9 (n=10)\n"
          ]
        },
        {
          "output_type": "stream",
          "name": "stderr",
          "text": [
            "\r  0%|          | 0/938 [00:00<?, ?it/s]/usr/local/lib/python3.10/dist-packages/torch/utils/data/dataloader.py:557: UserWarning: This DataLoader will create 4 worker processes in total. Our suggested max number of worker in current system is 2, which is smaller than what this DataLoader is going to create. Please be aware that excessive worker creation might get DataLoader running slow or even freeze, lower the worker number to avoid potential slowness/freeze if necessary.\n",
            "  warnings.warn(_create_warning_msg(\n",
            "loss=0.2234: 100%|██████████| 938/938 [08:40<00:00,  1.80it/s]\n"
          ]
        },
        {
          "output_type": "stream",
          "name": "stdout",
          "text": [
            "Epoch 2, val_loss=0.2064, val_acc=92.61%, F1 Score=0.9242, Recall=0.926, Precision=0.9231\n",
            "Mean return 40.2 (n=10)\n"
          ]
        },
        {
          "output_type": "stream",
          "name": "stderr",
          "text": [
            "\r  0%|          | 0/938 [00:00<?, ?it/s]/usr/local/lib/python3.10/dist-packages/torch/utils/data/dataloader.py:557: UserWarning: This DataLoader will create 4 worker processes in total. Our suggested max number of worker in current system is 2, which is smaller than what this DataLoader is going to create. Please be aware that excessive worker creation might get DataLoader running slow or even freeze, lower the worker number to avoid potential slowness/freeze if necessary.\n",
            "  warnings.warn(_create_warning_msg(\n",
            "loss=0.1812: 100%|██████████| 938/938 [08:42<00:00,  1.79it/s]\n"
          ]
        },
        {
          "output_type": "stream",
          "name": "stdout",
          "text": [
            "Epoch 3, val_loss=0.8873, val_acc=67.06%, F1 Score=0.7073, Recall=0.6703, Precision=0.8665\n",
            "Mean return 1.9 (n=10)\n"
          ]
        }
      ]
    },
    {
      "cell_type": "code",
      "source": [
        "# Plotting\n",
        "epochs = range(1, len(val_losses) + 1)\n",
        "\n",
        "plt.figure(figsize=(10, 5))\n",
        "plt.subplot(1, 2, 1)\n",
        "plt.plot(epochs, val_losses, label='Validation Loss')\n",
        "plt.title('Loss vs Epoch')\n",
        "plt.xlabel('Epoch')\n",
        "plt.ylabel('Loss')\n",
        "plt.legend()\n",
        "\n",
        "plt.subplot(1, 2, 2)\n",
        "plt.plot(epochs, val_accuracies, label='Validation Accuracy')\n",
        "plt.title('Validation Accuracy')\n",
        "plt.xlabel('Epoch')\n",
        "plt.ylabel('Accuracy')\n",
        "plt.legend()\n",
        "\n",
        "plt.subplot(1, 3, 3)\n",
        "plt.plot(epochs, f1_scores, label='F1 Score', color='orange')\n",
        "plt.title('Weighted F1 Score')\n",
        "plt.xlabel('Epoch')\n",
        "plt.ylabel('F1 Score')\n",
        "plt.legend()\n",
        "\n",
        "\n",
        "plt.tight_layout()\n",
        "plt.show()"
      ],
      "metadata": {
        "colab": {
          "base_uri": "https://localhost:8080/",
          "height": 560
        },
        "id": "I5x_vWwHJORU",
        "outputId": "6da6b418-5984-4c1b-9be9-fb8286655553"
      },
      "execution_count": 29,
      "outputs": [
        {
          "output_type": "stream",
          "name": "stderr",
          "text": [
            "<ipython-input-29-d1b294af98f9>:19: MatplotlibDeprecationWarning: Auto-removal of overlapping axes is deprecated since 3.6 and will be removed two minor releases later; explicitly call ax.remove() as needed.\n",
            "  plt.subplot(1, 3, 3)\n",
            "<ipython-input-29-d1b294af98f9>:27: UserWarning: tight_layout not applied: number of columns in subplot specifications must be multiples of one another.\n",
            "  plt.tight_layout()\n"
          ]
        },
        {
          "output_type": "display_data",
          "data": {
            "text/plain": [
              "<Figure size 1000x500 with 2 Axes>"
            ],
            "image/png": "[encoded data removed]"
          },
          "metadata": {}
        }
      ]
    },
    {
      "cell_type": "code",
      "source": [
        "plt.subplot(1, 2, 2)\n",
        "plt.plot(epochs, val_accuracies, label='Validation Accuracy')\n",
        "plt.title('Validation Accuracy')\n",
        "plt.xlabel('Epoch')\n",
        "plt.ylabel('Accuracy')\n",
        "plt.legend()\n",
        "\n",
        "plt.tight_layout()\n",
        "plt.show()"
      ],
      "metadata": {
        "colab": {
          "base_uri": "https://localhost:8080/",
          "height": 487
        },
        "id": "2vjP81cUECDQ",
        "outputId": "06c0f2cd-817a-446e-c917-e53d8a26e167"
      },
      "execution_count": 30,
      "outputs": [
        {
          "output_type": "display_data",
          "data": {
            "text/plain": [
              "<Figure size 640x480 with 1 Axes>"
            ],
            "image/png": "[encoded data removed]"
          },
          "metadata": {}
        }
      ]
    },
    {
      "cell_type": "code",
      "source": [
        "# Visualize Atari game and play endlessly\n",
        "env = gym.make(\"ALE/Breakout-v5\", render_mode=\"human\")\n",
        "env = wrap_deepmind(env)\n",
        "run_closed_loop(model, env)"
      ],
      "metadata": {
        "id": "fiBnOouCIwt2"
      },
      "execution_count": null,
      "outputs": []
    }
  ]
}